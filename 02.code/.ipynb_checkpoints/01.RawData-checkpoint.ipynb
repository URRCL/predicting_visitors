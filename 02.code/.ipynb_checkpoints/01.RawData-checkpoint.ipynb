{
 "cells": [
  {
   "cell_type": "code",
   "execution_count": 1,
   "metadata": {
    "run_control": {
     "frozen": false,
     "read_only": false
    }
   },
   "outputs": [
    {
     "name": "stdout",
     "output_type": "stream",
     "text": [
      "Populating the interactive namespace from numpy and matplotlib\n"
     ]
    }
   ],
   "source": [
    "%pylab inline\n",
    "\n",
    "import pandas as pd\n",
    "import seaborn as sns"
   ]
  },
  {
   "cell_type": "code",
   "execution_count": 2,
   "metadata": {
    "run_control": {
     "frozen": false,
     "read_only": false
    }
   },
   "outputs": [],
   "source": [
    "data_input = '../01.data/PeopleCountData.txt'\n",
    "data_output = '../01.data/PeopleCountData_wide.txt'"
   ]
  },
  {
   "cell_type": "code",
   "execution_count": 3,
   "metadata": {
    "run_control": {
     "frozen": false,
     "read_only": false
    }
   },
   "outputs": [],
   "source": [
    "def reshape_toWide(data_input, data_output):\n",
    "\n",
    "    column_names = ['date','time','ip','entrypoint','incoming','outgoing']\n",
    "    data_raw = pd.read_csv(data_input,names=column_names)\n",
    "    \n",
    "    data = data_raw.copy()\n",
    "    data['timestamp'] = pd.to_datetime(data.date+' '+data.time)\n",
    "\n",
    "    columns_values = ['incoming', 'outgoing']\n",
    "\n",
    "    data_wide = data.pivot_table(values = columns_values,\n",
    "                                 index = ['timestamp'],\n",
    "                                 columns = 'entrypoint',\n",
    "                                 aggfunc = 'mean').diff()\n",
    "\n",
    "    data_wide.columns = ['_'.join(t) for t in data_wide.columns]\n",
    "    data_wide.fillna(0,inplace=True)\n",
    "    \n",
    "    return(data_wide)"
   ]
  },
  {
   "cell_type": "code",
   "execution_count": null,
   "metadata": {
    "run_control": {
     "frozen": false,
     "read_only": false
    }
   },
   "outputs": [],
   "source": [
    "data_wide = reshape_toWide(data_input,data_output)"
   ]
  },
  {
   "cell_type": "code",
   "execution_count": 5,
   "metadata": {
    "run_control": {
     "frozen": false,
     "read_only": false
    }
   },
   "outputs": [
    {
     "data": {
      "text/html": [
       "<div>\n",
       "<style>\n",
       "    .dataframe thead tr:only-child th {\n",
       "        text-align: right;\n",
       "    }\n",
       "\n",
       "    .dataframe thead th {\n",
       "        text-align: left;\n",
       "    }\n",
       "\n",
       "    .dataframe tbody tr th {\n",
       "        vertical-align: top;\n",
       "    }\n",
       "</style>\n",
       "<table border=\"1\" class=\"dataframe\">\n",
       "  <thead>\n",
       "    <tr style=\"text-align: right;\">\n",
       "      <th></th>\n",
       "      <th>incoming_CarlsonBridgeEntrance</th>\n",
       "      <th>incoming_CarlsonBridgeEntrance.Counter</th>\n",
       "      <th>incoming_CarlsonMainEntrance</th>\n",
       "      <th>incoming_CarlsonMainEntrance.Counter</th>\n",
       "      <th>incoming_CarlsonTunnelEntrance</th>\n",
       "      <th>incoming_CarlsonTunnelEntrance.Counter</th>\n",
       "      <th>incoming_DouglassBridge</th>\n",
       "      <th>incoming_FriedlanderLobby</th>\n",
       "      <th>incoming_GleasonEntrance</th>\n",
       "      <th>incoming_GleasonStacks</th>\n",
       "      <th>...</th>\n",
       "      <th>outgoing_CarlsonTunnelEntrance</th>\n",
       "      <th>outgoing_CarlsonTunnelEntrance.Counter</th>\n",
       "      <th>outgoing_DouglassBridge</th>\n",
       "      <th>outgoing_FriedlanderLobby</th>\n",
       "      <th>outgoing_GleasonEntrance</th>\n",
       "      <th>outgoing_GleasonStacks</th>\n",
       "      <th>outgoing_POAMainEntrance</th>\n",
       "      <th>outgoing_POAMainEntrance.Counter</th>\n",
       "      <th>outgoing_RobbinsLibrary</th>\n",
       "      <th>outgoing_RobbinsLibrary.Counter</th>\n",
       "    </tr>\n",
       "    <tr>\n",
       "      <th>timestamp</th>\n",
       "      <th></th>\n",
       "      <th></th>\n",
       "      <th></th>\n",
       "      <th></th>\n",
       "      <th></th>\n",
       "      <th></th>\n",
       "      <th></th>\n",
       "      <th></th>\n",
       "      <th></th>\n",
       "      <th></th>\n",
       "      <th></th>\n",
       "      <th></th>\n",
       "      <th></th>\n",
       "      <th></th>\n",
       "      <th></th>\n",
       "      <th></th>\n",
       "      <th></th>\n",
       "      <th></th>\n",
       "      <th></th>\n",
       "      <th></th>\n",
       "      <th></th>\n",
       "    </tr>\n",
       "  </thead>\n",
       "  <tbody>\n",
       "    <tr>\n",
       "      <th>2017-05-04 15:51:00</th>\n",
       "      <td>0.0</td>\n",
       "      <td>0.0</td>\n",
       "      <td>0.0</td>\n",
       "      <td>0.0</td>\n",
       "      <td>0.0</td>\n",
       "      <td>0.0</td>\n",
       "      <td>0.0</td>\n",
       "      <td>0.0</td>\n",
       "      <td>0.0</td>\n",
       "      <td>0.0</td>\n",
       "      <td>...</td>\n",
       "      <td>0.0</td>\n",
       "      <td>0.0</td>\n",
       "      <td>0.0</td>\n",
       "      <td>0.0</td>\n",
       "      <td>0.0</td>\n",
       "      <td>0.0</td>\n",
       "      <td>0.0</td>\n",
       "      <td>0.0</td>\n",
       "      <td>0.0</td>\n",
       "      <td>0.0</td>\n",
       "    </tr>\n",
       "    <tr>\n",
       "      <th>2017-05-04 15:53:00</th>\n",
       "      <td>0.0</td>\n",
       "      <td>0.0</td>\n",
       "      <td>0.0</td>\n",
       "      <td>0.0</td>\n",
       "      <td>0.0</td>\n",
       "      <td>0.0</td>\n",
       "      <td>5.0</td>\n",
       "      <td>6.0</td>\n",
       "      <td>3.0</td>\n",
       "      <td>2.0</td>\n",
       "      <td>...</td>\n",
       "      <td>0.0</td>\n",
       "      <td>0.0</td>\n",
       "      <td>4.0</td>\n",
       "      <td>4.0</td>\n",
       "      <td>5.0</td>\n",
       "      <td>6.0</td>\n",
       "      <td>0.0</td>\n",
       "      <td>0.0</td>\n",
       "      <td>0.0</td>\n",
       "      <td>0.0</td>\n",
       "    </tr>\n",
       "    <tr>\n",
       "      <th>2017-05-04 15:54:00</th>\n",
       "      <td>0.0</td>\n",
       "      <td>0.0</td>\n",
       "      <td>0.0</td>\n",
       "      <td>0.0</td>\n",
       "      <td>0.0</td>\n",
       "      <td>0.0</td>\n",
       "      <td>2.0</td>\n",
       "      <td>1.0</td>\n",
       "      <td>1.0</td>\n",
       "      <td>1.0</td>\n",
       "      <td>...</td>\n",
       "      <td>0.0</td>\n",
       "      <td>0.0</td>\n",
       "      <td>1.0</td>\n",
       "      <td>8.0</td>\n",
       "      <td>2.0</td>\n",
       "      <td>1.0</td>\n",
       "      <td>0.0</td>\n",
       "      <td>0.0</td>\n",
       "      <td>0.0</td>\n",
       "      <td>0.0</td>\n",
       "    </tr>\n",
       "    <tr>\n",
       "      <th>2017-05-04 15:56:00</th>\n",
       "      <td>0.0</td>\n",
       "      <td>0.0</td>\n",
       "      <td>0.0</td>\n",
       "      <td>0.0</td>\n",
       "      <td>0.0</td>\n",
       "      <td>0.0</td>\n",
       "      <td>3.0</td>\n",
       "      <td>12.0</td>\n",
       "      <td>1.0</td>\n",
       "      <td>0.0</td>\n",
       "      <td>...</td>\n",
       "      <td>0.0</td>\n",
       "      <td>0.0</td>\n",
       "      <td>4.0</td>\n",
       "      <td>6.0</td>\n",
       "      <td>4.0</td>\n",
       "      <td>3.0</td>\n",
       "      <td>0.0</td>\n",
       "      <td>0.0</td>\n",
       "      <td>0.0</td>\n",
       "      <td>0.0</td>\n",
       "    </tr>\n",
       "    <tr>\n",
       "      <th>2017-05-04 15:58:00</th>\n",
       "      <td>0.0</td>\n",
       "      <td>0.0</td>\n",
       "      <td>0.0</td>\n",
       "      <td>0.0</td>\n",
       "      <td>0.0</td>\n",
       "      <td>0.0</td>\n",
       "      <td>1.0</td>\n",
       "      <td>9.0</td>\n",
       "      <td>1.0</td>\n",
       "      <td>0.0</td>\n",
       "      <td>...</td>\n",
       "      <td>0.0</td>\n",
       "      <td>0.0</td>\n",
       "      <td>2.0</td>\n",
       "      <td>11.0</td>\n",
       "      <td>0.0</td>\n",
       "      <td>6.0</td>\n",
       "      <td>0.0</td>\n",
       "      <td>0.0</td>\n",
       "      <td>0.0</td>\n",
       "      <td>0.0</td>\n",
       "    </tr>\n",
       "  </tbody>\n",
       "</table>\n",
       "<p>5 rows × 28 columns</p>\n",
       "</div>"
      ],
      "text/plain": [
       "                     incoming_CarlsonBridgeEntrance  \\\n",
       "timestamp                                             \n",
       "2017-05-04 15:51:00                             0.0   \n",
       "2017-05-04 15:53:00                             0.0   \n",
       "2017-05-04 15:54:00                             0.0   \n",
       "2017-05-04 15:56:00                             0.0   \n",
       "2017-05-04 15:58:00                             0.0   \n",
       "\n",
       "                     incoming_CarlsonBridgeEntrance.Counter  \\\n",
       "timestamp                                                     \n",
       "2017-05-04 15:51:00                                     0.0   \n",
       "2017-05-04 15:53:00                                     0.0   \n",
       "2017-05-04 15:54:00                                     0.0   \n",
       "2017-05-04 15:56:00                                     0.0   \n",
       "2017-05-04 15:58:00                                     0.0   \n",
       "\n",
       "                     incoming_CarlsonMainEntrance  \\\n",
       "timestamp                                           \n",
       "2017-05-04 15:51:00                           0.0   \n",
       "2017-05-04 15:53:00                           0.0   \n",
       "2017-05-04 15:54:00                           0.0   \n",
       "2017-05-04 15:56:00                           0.0   \n",
       "2017-05-04 15:58:00                           0.0   \n",
       "\n",
       "                     incoming_CarlsonMainEntrance.Counter  \\\n",
       "timestamp                                                   \n",
       "2017-05-04 15:51:00                                   0.0   \n",
       "2017-05-04 15:53:00                                   0.0   \n",
       "2017-05-04 15:54:00                                   0.0   \n",
       "2017-05-04 15:56:00                                   0.0   \n",
       "2017-05-04 15:58:00                                   0.0   \n",
       "\n",
       "                     incoming_CarlsonTunnelEntrance  \\\n",
       "timestamp                                             \n",
       "2017-05-04 15:51:00                             0.0   \n",
       "2017-05-04 15:53:00                             0.0   \n",
       "2017-05-04 15:54:00                             0.0   \n",
       "2017-05-04 15:56:00                             0.0   \n",
       "2017-05-04 15:58:00                             0.0   \n",
       "\n",
       "                     incoming_CarlsonTunnelEntrance.Counter  \\\n",
       "timestamp                                                     \n",
       "2017-05-04 15:51:00                                     0.0   \n",
       "2017-05-04 15:53:00                                     0.0   \n",
       "2017-05-04 15:54:00                                     0.0   \n",
       "2017-05-04 15:56:00                                     0.0   \n",
       "2017-05-04 15:58:00                                     0.0   \n",
       "\n",
       "                     incoming_DouglassBridge  incoming_FriedlanderLobby  \\\n",
       "timestamp                                                                 \n",
       "2017-05-04 15:51:00                      0.0                        0.0   \n",
       "2017-05-04 15:53:00                      5.0                        6.0   \n",
       "2017-05-04 15:54:00                      2.0                        1.0   \n",
       "2017-05-04 15:56:00                      3.0                       12.0   \n",
       "2017-05-04 15:58:00                      1.0                        9.0   \n",
       "\n",
       "                     incoming_GleasonEntrance  incoming_GleasonStacks  \\\n",
       "timestamp                                                               \n",
       "2017-05-04 15:51:00                       0.0                     0.0   \n",
       "2017-05-04 15:53:00                       3.0                     2.0   \n",
       "2017-05-04 15:54:00                       1.0                     1.0   \n",
       "2017-05-04 15:56:00                       1.0                     0.0   \n",
       "2017-05-04 15:58:00                       1.0                     0.0   \n",
       "\n",
       "                                  ...                 \\\n",
       "timestamp                         ...                  \n",
       "2017-05-04 15:51:00               ...                  \n",
       "2017-05-04 15:53:00               ...                  \n",
       "2017-05-04 15:54:00               ...                  \n",
       "2017-05-04 15:56:00               ...                  \n",
       "2017-05-04 15:58:00               ...                  \n",
       "\n",
       "                     outgoing_CarlsonTunnelEntrance  \\\n",
       "timestamp                                             \n",
       "2017-05-04 15:51:00                             0.0   \n",
       "2017-05-04 15:53:00                             0.0   \n",
       "2017-05-04 15:54:00                             0.0   \n",
       "2017-05-04 15:56:00                             0.0   \n",
       "2017-05-04 15:58:00                             0.0   \n",
       "\n",
       "                     outgoing_CarlsonTunnelEntrance.Counter  \\\n",
       "timestamp                                                     \n",
       "2017-05-04 15:51:00                                     0.0   \n",
       "2017-05-04 15:53:00                                     0.0   \n",
       "2017-05-04 15:54:00                                     0.0   \n",
       "2017-05-04 15:56:00                                     0.0   \n",
       "2017-05-04 15:58:00                                     0.0   \n",
       "\n",
       "                     outgoing_DouglassBridge  outgoing_FriedlanderLobby  \\\n",
       "timestamp                                                                 \n",
       "2017-05-04 15:51:00                      0.0                        0.0   \n",
       "2017-05-04 15:53:00                      4.0                        4.0   \n",
       "2017-05-04 15:54:00                      1.0                        8.0   \n",
       "2017-05-04 15:56:00                      4.0                        6.0   \n",
       "2017-05-04 15:58:00                      2.0                       11.0   \n",
       "\n",
       "                     outgoing_GleasonEntrance  outgoing_GleasonStacks  \\\n",
       "timestamp                                                               \n",
       "2017-05-04 15:51:00                       0.0                     0.0   \n",
       "2017-05-04 15:53:00                       5.0                     6.0   \n",
       "2017-05-04 15:54:00                       2.0                     1.0   \n",
       "2017-05-04 15:56:00                       4.0                     3.0   \n",
       "2017-05-04 15:58:00                       0.0                     6.0   \n",
       "\n",
       "                     outgoing_POAMainEntrance  \\\n",
       "timestamp                                       \n",
       "2017-05-04 15:51:00                       0.0   \n",
       "2017-05-04 15:53:00                       0.0   \n",
       "2017-05-04 15:54:00                       0.0   \n",
       "2017-05-04 15:56:00                       0.0   \n",
       "2017-05-04 15:58:00                       0.0   \n",
       "\n",
       "                     outgoing_POAMainEntrance.Counter  \\\n",
       "timestamp                                               \n",
       "2017-05-04 15:51:00                               0.0   \n",
       "2017-05-04 15:53:00                               0.0   \n",
       "2017-05-04 15:54:00                               0.0   \n",
       "2017-05-04 15:56:00                               0.0   \n",
       "2017-05-04 15:58:00                               0.0   \n",
       "\n",
       "                     outgoing_RobbinsLibrary  outgoing_RobbinsLibrary.Counter  \n",
       "timestamp                                                                      \n",
       "2017-05-04 15:51:00                      0.0                              0.0  \n",
       "2017-05-04 15:53:00                      0.0                              0.0  \n",
       "2017-05-04 15:54:00                      0.0                              0.0  \n",
       "2017-05-04 15:56:00                      0.0                              0.0  \n",
       "2017-05-04 15:58:00                      0.0                              0.0  \n",
       "\n",
       "[5 rows x 28 columns]"
      ]
     },
     "execution_count": 5,
     "metadata": {},
     "output_type": "execute_result"
    }
   ],
   "source": [
    "data_wide.head(5)"
   ]
  },
  {
   "cell_type": "code",
   "execution_count": 6,
   "metadata": {
    "run_control": {
     "frozen": false,
     "read_only": false
    }
   },
   "outputs": [],
   "source": [
    "data_wide.to_csv(path_or_buf=data_output, sep='|')"
   ]
  },
  {
   "cell_type": "code",
   "execution_count": 42,
   "metadata": {
    "run_control": {
     "frozen": false,
     "read_only": false
    }
   },
   "outputs": [
    {
     "data": {
      "text/plain": [
       "14"
      ]
     },
     "execution_count": 42,
     "metadata": {},
     "output_type": "execute_result"
    }
   ],
   "source": [
    "len(data['entrypoint'].unique())"
   ]
  },
  {
   "cell_type": "code",
   "execution_count": 49,
   "metadata": {
    "run_control": {
     "frozen": false,
     "read_only": false
    }
   },
   "outputs": [
    {
     "data": {
      "text/plain": [
       "(14, array(['GleasonStacks', 'GleasonEntrance', 'DouglassBridge',\n",
       "        'FriedlanderLobby', 'RobbinsLibrary.Counter',\n",
       "        'CarlsonTunnelEntrance.Counter', 'CarlsonMainEntrance.Counter',\n",
       "        'CarlsonBridgeEntrance.Counter', 'POAMainEntrance.Counter',\n",
       "        'RobbinsLibrary', 'CarlsonTunnelEntrance', 'CarlsonMainEntrance',\n",
       "        'CarlsonBridgeEntrance', 'POAMainEntrance'], dtype=object))"
      ]
     },
     "execution_count": 49,
     "metadata": {},
     "output_type": "execute_result"
    }
   ],
   "source": [
    "gates = data['entrypoint'].unique()\n",
    "len(gates),gates"
   ]
  },
  {
   "cell_type": "code",
   "execution_count": 48,
   "metadata": {
    "run_control": {
     "frozen": false,
     "read_only": false
    }
   },
   "outputs": [
    {
     "data": {
      "text/plain": [
       "['CarlsonTunnelEntrance.Counter',\n",
       " 'CarlsonMainEntrance.Counter',\n",
       " 'CarlsonBridgeEntrance.Counter',\n",
       " 'CarlsonTunnelEntrance',\n",
       " 'CarlsonMainEntrance',\n",
       " 'CarlsonBridgeEntrance']"
      ]
     },
     "execution_count": 48,
     "metadata": {},
     "output_type": "execute_result"
    }
   ],
   "source": [
    "[gate for gate in gates if 'carlson' in gate.lower()]"
   ]
  }
 ],
 "metadata": {
  "kernelspec": {
   "display_name": "Anaconda-tf",
   "language": "python",
   "name": "anaconda_tf"
  },
  "language_info": {
   "codemirror_mode": {
    "name": "ipython",
    "version": 2
   },
   "file_extension": ".py",
   "mimetype": "text/x-python",
   "name": "python",
   "nbconvert_exporter": "python",
   "pygments_lexer": "ipython2",
   "version": "2.7.14"
  }
 },
 "nbformat": 4,
 "nbformat_minor": 2
}
